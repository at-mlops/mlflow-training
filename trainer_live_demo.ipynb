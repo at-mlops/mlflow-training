{
 "cells": [
  {
   "cell_type": "code",
   "execution_count": 1,
   "metadata": {},
   "outputs": [],
   "source": [
    "# Import the sklearn models from MLflow\n",
    "import mlflow.sklearn\n",
    "import mlflow\n",
    "from pprint import pprint\n",
    "from sklearn.ensemble import RandomForestRegressor"
   ]
  },
  {
   "cell_type": "code",
   "execution_count": 5,
   "metadata": {},
   "outputs": [
    {
     "name": "stdout",
     "output_type": "stream",
     "text": [
      "model_pred: [1.]\n"
     ]
    }
   ],
   "source": [
    "mlflow.set_tracking_uri(\"http://127.0.0.1:5000/\")\n",
    "experiment_name = \"sklear-model\"\n",
    "mlflow.set_experiment(experiment_name)\n",
    "run_name = \"mlflow-models-and-registry\"\n",
    "\n",
    "# -- MLflow Models\n",
    "\n",
    "# log model to current run\n",
    "with mlflow.start_run(run_name=run_name) as run:\n",
    "    params = {\"n_estimators\": 4, \"random_state\": 42}\n",
    "    rfr = RandomForestRegressor(**params).fit([[0, 1, 0]], [1])\n",
    "    mlflow.log_params(params)\n",
    "    # TODO: Log the model rfr and give it the path \"sklearn-model\"\n",
    "    mlflow.sklearn.log_model(rfr, artifact_path=\"sklearn-model\")\n",
    "\n",
    "    # TODO: modify the model_uri to load from the path \"sklearn-model\"\n",
    "    model_uri = f\"runs:/{run.info.run_id}/sklearn-model\"\n",
    "\n",
    "# TODO: Load the model using the model uri to test it\n",
    "model = mlflow.sklearn.load_model(model_uri=model_uri)\n",
    "\n",
    "data = [[0, 1, 0]]\n",
    "model_pred = model.predict(data)\n",
    "print(f\"model_pred: {model_pred}\")\n"
   ]
  },
  {
   "cell_type": "code",
   "execution_count": 6,
   "metadata": {},
   "outputs": [
    {
     "name": "stderr",
     "output_type": "stream",
     "text": [
      "Registered model 'sklearn-model-name' already exists. Creating a new version of this model...\n",
      "2023/08/07 23:33:06 INFO mlflow.tracking._model_registry.client: Waiting up to 300 seconds for model version to finish creation. Model name: sklearn-model-name, version 2\n"
     ]
    },
    {
     "name": "stdout",
     "output_type": "stream",
     "text": [
      "Name: sklearn-model-name\n",
      "Version: 2\n",
      "Stage: None\n",
      "model_pred: [1.]\n",
      "{   'aliases': {},\n",
      "    'creation_timestamp': 1691400605865,\n",
      "    'description': '',\n",
      "    'last_updated_timestamp': 1691443986631,\n",
      "    'latest_versions': [   <ModelVersion: aliases=[], creation_timestamp=1691443986593, current_stage='Staging', description='', last_updated_timestamp=1691443986631, name='sklearn-model-name', run_id='079a49d7dc3148f5b6f10bc79afbfff6', run_link='', source='mlflow-artifacts:/0/079a49d7dc3148f5b6f10bc79afbfff6/artifacts/sklearn-model', status='READY', status_message='', tags={}, user_id='', version='2'>],\n",
      "    'name': 'sklearn-model-name',\n",
      "    'tags': {}}\n"
     ]
    },
    {
     "name": "stderr",
     "output_type": "stream",
     "text": [
      "Created version '2' of model 'sklearn-model-name'.\n"
     ]
    }
   ],
   "source": [
    "\n",
    "\n",
    "# -- MLflow Model Registry\n",
    "\n",
    "model_name = \"sklearn-model-name\"\n",
    "# register model in mlflow registry\n",
    "# TODO: Register the model to the model registry using the model_uri from before and the model_name\n",
    "mv = mlflow.register_model(model_uri, model_name)\n",
    "print(\"Name: {}\".format(mv.name))\n",
    "print(\"Version: {}\".format(mv.version))\n",
    "print(\"Stage: {}\".format(mv.current_stage))\n",
    "\n",
    "\n",
    "# TODO: modify the model_uri to load the model from the registry\n",
    "model_uri = f\"models:/{model_name}/{mv.version}\"\n",
    "model = mlflow.sklearn.load_model(model_uri=model_uri)\n",
    "\n",
    "data = [[0, 1, 0]]\n",
    "model_pred = model.predict(data)\n",
    "print(f\"model_pred: {model_pred}\")\n",
    "\n",
    "\n",
    "# Transition the model to another stage\n",
    "from mlflow import MlflowClient\n",
    "\n",
    "client = MlflowClient()\n",
    "\n",
    "# TODO: Transition the model to the stage \"Production\"\n",
    "stage = \"Staging\"  # None, Production\n",
    "\n",
    "client.transition_model_version_stage(name=model_name, version=mv.version, stage=stage)\n",
    "\n",
    "# print registered models\n",
    "for rm in client.search_registered_models():\n",
    "    pprint(dict(rm), indent=4)\n"
   ]
  },
  {
   "cell_type": "code",
   "execution_count": null,
   "metadata": {},
   "outputs": [],
   "source": []
  }
 ],
 "metadata": {
  "kernelspec": {
   "display_name": "Python 3",
   "language": "python",
   "name": "python3"
  },
  "language_info": {
   "codemirror_mode": {
    "name": "ipython",
    "version": 3
   },
   "file_extension": ".py",
   "mimetype": "text/x-python",
   "name": "python",
   "nbconvert_exporter": "python",
   "pygments_lexer": "ipython3",
   "version": "3.10.10"
  },
  "orig_nbformat": 4
 },
 "nbformat": 4,
 "nbformat_minor": 2
}
