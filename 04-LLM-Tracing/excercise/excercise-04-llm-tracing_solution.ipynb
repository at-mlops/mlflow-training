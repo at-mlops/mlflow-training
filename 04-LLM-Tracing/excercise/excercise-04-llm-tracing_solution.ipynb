{
 "cells": [
  {
   "cell_type": "code",
   "execution_count": 2,
   "metadata": {},
   "outputs": [
    {
     "name": "stderr",
     "output_type": "stream",
     "text": [
      "c:\\Users\\florian.krempl.AT\\Documents\\projects\\trainings\\mlflow-training\\.venv\\Lib\\site-packages\\mlflow\\pyfunc\\utils\\data_validation.py:168: UserWarning: \u001b[33mAdd type hints to the `predict` method to enable data validation and automatic signature inference during model logging. Check https://mlflow.org/docs/latest/model/python_model.html#type-hint-usage-in-pythonmodel for more details.\u001b[0m\n",
      "  color_warning(\n"
     ]
    },
    {
     "data": {
      "text/plain": [
       "True"
      ]
     },
     "execution_count": 2,
     "metadata": {},
     "output_type": "execute_result"
    }
   ],
   "source": [
    "import mlflow \n",
    "from uuid import uuid4\n",
    "\n",
    "from langchain_core.messages import HumanMessage\n",
    "from langchain_community.tools import WikipediaQueryRun\n",
    "from langchain_community.utilities import WikipediaAPIWrapper\n",
    "from dotenv import load_dotenv\n",
    "\n",
    "from mlflow.models.signature import infer_signature\n",
    "from mlflow_training.agent import create_graph, LangGraphWrapper\n",
    "\n",
    "load_dotenv()"
   ]
  },
  {
   "cell_type": "code",
   "execution_count": 3,
   "metadata": {},
   "outputs": [],
   "source": [
    "mlflow.set_tracking_uri(\"http://localhost:5000\")\n",
    "mlflow.set_experiment(\"LLM-Tracing\")\n",
    "mlflow.langchain.autolog()"
   ]
  },
  {
   "cell_type": "code",
   "execution_count": 4,
   "metadata": {},
   "outputs": [],
   "source": [
    "SYSTEM_MESSAGE = \"You are a helpfull Assistant. Use Wikipedia to answer questions about facts and general knowledge.\"\n",
    "\n",
    "wikipedia_tool = WikipediaQueryRun(api_wrapper=WikipediaAPIWrapper())\n",
    "agent = create_graph(system_message=SYSTEM_MESSAGE, tools=[wikipedia_tool])"
   ]
  },
  {
   "cell_type": "code",
   "execution_count": 7,
   "metadata": {},
   "outputs": [
    {
     "name": "stdout",
     "output_type": "stream",
     "text": [
      "{'messages': [HumanMessage(content='Who is the current chancellor of Germany? April 2025', additional_kwargs={}, response_metadata={}, id='88e7af8e-ccd0-4e70-bbcb-c7f5d9d3a143'), AIMessage(content='', additional_kwargs={'tool_calls': [{'index': 0, 'id': 'call_urUqfIdRUqr38sp8XrL3w86K', 'function': {'arguments': '{\"query\":\"Chancellor of Germany\"}', 'name': 'wikipedia'}, 'type': 'function'}]}, response_metadata={'finish_reason': 'tool_calls', 'model_name': 'gpt-4o-2024-08-06', 'system_fingerprint': 'fp_6dd05565ef'}, id='run-8ddb36a8-9acd-4a5d-aa3e-6b4d8a3843b7-0', tool_calls=[{'name': 'wikipedia', 'args': {'query': 'Chancellor of Germany'}, 'id': 'call_urUqfIdRUqr38sp8XrL3w86K', 'type': 'tool_call'}]), ToolMessage(content='Page: Chancellor of Germany\\nSummary: The chancellor of Germany, officially the federal chancellor of the Federal Republic of Germany, is the head of the federal government of Germany. The chancellor is the chief executive of the Federal Cabinet and heads the executive branch. The chancellor is elected by the Bundestag on the proposal of the federal president and without debate (Article 63 of the German Constitution). During a state of defence declared by the Bundestag the chancellor also assumes the position of commander-in-chief of the Bundeswehr.\\nThirty-six people (thirty-five men and one woman) have served as chancellor, the first of whom was Otto von Bismarck taking over on 21 March 1871. The current officeholder is Olaf Scholz of the Social Democratic Party, who was elected in December 2021, succeeding Angela Merkel. He was elected after the SPD entered into a coalition agreement with Alliance 90/The Greens and the FDP.\\n\\nPage: List of chancellors of Germany\\nSummary: The chancellor of Germany is the political leader of Germany and the head of the federal government. The office holder is responsible for selecting all other members of the government and chairing cabinet meetings.\\nThe office was created in the North German Confederation in 1867, when Otto von Bismarck became the first chancellor. With the unification of Germany and establishment of the German Empire in 1871, the Confederation evolved into a German nation-state and its leader became known as the chancellor of Germany. Originally, the chancellor was only responsible to the emperor. This changed with the constitutional reform in 1918, when the Parliament was given the right to dismiss the chancellor. Under the 1919 Weimar Constitution the chancellors were appointed by the directly elected president, but were responsible to Parliament.\\nThe constitution was set aside during the 1933–1945 Nazi regime. During the Allied occupation, no independent German government and no chancellor existed; and the office was not reconstituted in East Germany, thus the head of government of East Germany was chairman of the Council of Ministers. The 1949 Basic Law made the chancellor the most important office in West Germany, while diminishing the role of the president.\\n\\nPage: Historical rankings of chancellors of Germany\\nSummary: Historical rankings of chancellors of Germany are surveys conducted to construct rankings of the success and popularity of the individuals who have served as Chancellor of Germany in the Federal Republic of Germany.', name='wikipedia', id='1ac33861-bdb8-4758-9478-356e2fb7bd7e', tool_call_id='call_urUqfIdRUqr38sp8XrL3w86K'), AIMessage(content='As of the latest available information, the current Chancellor of Germany is Olaf Scholz. He was elected in December 2021. However, please note that this information might be outdated for April 2025, and I recommend checking the latest sources for the most current information.', additional_kwargs={}, response_metadata={'finish_reason': 'stop', 'model_name': 'gpt-4o-2024-08-06', 'system_fingerprint': 'fp_6dd05565ef'}, id='run-fc03de61-ed7c-41ce-b5b7-a27da0881bd9-0')]}\n"
     ]
    },
    {
     "data": {
      "text/html": [
       "\n",
       "<div>\n",
       "  <style scoped>\n",
       "  button {\n",
       "    border: none;\n",
       "    border-radius: 4px;\n",
       "    background-color: rgb(34, 114, 180);\n",
       "    font-family: -apple-system, \"system-ui\", \"Segoe UI\", Roboto, \"Helvetica Neue\", Arial;\n",
       "    font-size: 13px;\n",
       "    color: white;\n",
       "    margin-top: 8px;\n",
       "    margin-bottom: 8px;\n",
       "    padding: 8px 16px;\n",
       "    cursor: pointer;\n",
       "  }\n",
       "  button:hover {\n",
       "    background-color: rgb(66, 153, 224);\n",
       "  }\n",
       "  </style>\n",
       "  <button\n",
       "    onclick=\"\n",
       "        const display = this.nextElementSibling.style.display;\n",
       "        const isCollapsed = display === 'none';\n",
       "        this.nextElementSibling.style.display = isCollapsed ? null : 'none';\n",
       "\n",
       "        const verb = isCollapsed ? 'Collapse' : 'Expand';\n",
       "        this.innerText = `${verb} MLflow Trace`;\n",
       "    \"\n",
       "  >Collapse MLflow Trace</button>\n",
       "  <iframe\n",
       "    id=\"trace-renderer\"\n",
       "    style=\"width: 100%; height: 500px; border: none; resize: vertical;\"\n",
       "    src=\"http://localhost:5000/static-files/lib/notebook-trace-renderer/index.html?trace_id=a7ed1b334907436aa91a3b2cd93fbc4c&amp;experiment_id=477751900475547963&amp;version=2.21.2\"\n",
       "  />\n",
       "</div>\n"
      ],
      "text/plain": [
       "Trace(request_id=a7ed1b334907436aa91a3b2cd93fbc4c)"
      ]
     },
     "metadata": {},
     "output_type": "display_data"
    }
   ],
   "source": [
    "session_id = str(uuid4())\n",
    "config = {\n",
    "    \"configurable\": {\"thread_id\": session_id},\n",
    "}\n",
    "\n",
    "response = agent.invoke(input = {\"messages\": HumanMessage(\"Who is the current chancellor of Germany? April 2025\")}, config=config)\n",
    "print(response)"
   ]
  },
  {
   "cell_type": "code",
   "execution_count": 8,
   "metadata": {},
   "outputs": [
    {
     "name": "stderr",
     "output_type": "stream",
     "text": [
      "c:\\Users\\florian.krempl.AT\\Documents\\projects\\trainings\\mlflow-training\\.venv\\Lib\\site-packages\\mlflow\\pyfunc\\__init__.py:3212: UserWarning: \u001b[1;33mAn input example was not provided when logging the model. To ensure the model signature functions correctly, specify the `input_example` parameter. See https://mlflow.org/docs/latest/model/signatures.html#model-input-example for more details about the benefits of using input_example.\u001b[0m\n",
      "  color_warning(\n",
      "Registered model 'MyLanggraphAgent' already exists. Creating a new version of this model...\n",
      "2025/03/27 16:03:26 INFO mlflow.store.model_registry.abstract_store: Waiting up to 300 seconds for model version to finish creation. Model name: MyLanggraphAgent, version 6\n"
     ]
    },
    {
     "name": "stdout",
     "output_type": "stream",
     "text": [
      "🏃 View run victorious-fowl-371 at: http://localhost:5000/#/experiments/477751900475547963/runs/5ab80ebbd2e742aea92ea62d6942d69c\n",
      "🧪 View experiment at: http://localhost:5000/#/experiments/477751900475547963\n"
     ]
    },
    {
     "name": "stderr",
     "output_type": "stream",
     "text": [
      "Created version '6' of model 'MyLanggraphAgent'.\n"
     ]
    }
   ],
   "source": [
    "\n",
    "model_input = {\n",
    "    \"query\": \"Who is the current chancellor of Germany? April 2025\",\n",
    "    \"session_id\": str(uuid4())\n",
    "}\n",
    "\n",
    "signature = infer_signature(model_input, response[\"messages\"][-1].content)\n",
    "\n",
    "with mlflow.start_run() as run:\n",
    "    # Log the custom LangGraph model.\n",
    "    mlflow.pyfunc.log_model(\n",
    "        artifact_path=\"langgraph_model\",\n",
    "        python_model=LangGraphWrapper(system_message=SYSTEM_MESSAGE, tools=[wikipedia_tool]),\n",
    "        signature=signature,  # Attach the inferred signature here.\n",
    "        # Optionally, add a registered model name if you are using the model registry.\n",
    "        registered_model_name=\"MyLanggraphAgent\"\n",
    "    )\n",
    "    mlflow.log_param(\"system_message\", SYSTEM_MESSAGE)\n",
    "    mlflow.log_param(\"tools\", [wikipedia_tool.name])\n",
    "    \n",
    "run_id = run.info.run_id"
   ]
  },
  {
   "cell_type": "code",
   "execution_count": 6,
   "metadata": {},
   "outputs": [
    {
     "name": "stderr",
     "output_type": "stream",
     "text": [
      "c:\\Users\\florian.krempl.AT\\Documents\\projects\\trainings\\mlflow-training\\.venv\\Lib\\site-packages\\tqdm\\auto.py:21: TqdmWarning: IProgress not found. Please update jupyter and ipywidgets. See https://ipywidgets.readthedocs.io/en/stable/user_install.html\n",
      "  from .autonotebook import tqdm as notebook_tqdm\n",
      "Downloading artifacts: 100%|██████████| 5/5 [00:02<00:00,  2.39it/s]\n"
     ]
    },
    {
     "data": {
      "text/plain": [
       "mlflow.pyfunc.loaded_model:\n",
       "  artifact_path: langgraph_model\n",
       "  flavor: mlflow.pyfunc.model\n",
       "  run_id: bf81fb72e0c14ec0827ef8bd382e7618"
      ]
     },
     "execution_count": 6,
     "metadata": {},
     "output_type": "execute_result"
    }
   ],
   "source": [
    "# Replace with your actual run ID or model registry URI.\n",
    "model_uri = f\"runs:/{run_id}/langgraph_model\"\n",
    "loaded_model = mlflow.pyfunc.load_model(model_uri)\n",
    "loaded_model "
   ]
  },
  {
   "cell_type": "code",
   "execution_count": 7,
   "metadata": {},
   "outputs": [
    {
     "data": {
      "text/plain": [
       "'As of April 2025, the current Chancellor of Austria is Christian Stocker, who was sworn in on March 3, 2025.'"
      ]
     },
     "execution_count": 7,
     "metadata": {},
     "output_type": "execute_result"
    },
    {
     "data": {
      "text/html": [
       "\n",
       "<div>\n",
       "  <style scoped>\n",
       "  button {\n",
       "    border: none;\n",
       "    border-radius: 4px;\n",
       "    background-color: rgb(34, 114, 180);\n",
       "    font-family: -apple-system, \"system-ui\", \"Segoe UI\", Roboto, \"Helvetica Neue\", Arial;\n",
       "    font-size: 13px;\n",
       "    color: white;\n",
       "    margin-top: 8px;\n",
       "    margin-bottom: 8px;\n",
       "    padding: 8px 16px;\n",
       "    cursor: pointer;\n",
       "  }\n",
       "  button:hover {\n",
       "    background-color: rgb(66, 153, 224);\n",
       "  }\n",
       "  </style>\n",
       "  <button\n",
       "    onclick=\"\n",
       "        const display = this.nextElementSibling.style.display;\n",
       "        const isCollapsed = display === 'none';\n",
       "        this.nextElementSibling.style.display = isCollapsed ? null : 'none';\n",
       "\n",
       "        const verb = isCollapsed ? 'Collapse' : 'Expand';\n",
       "        this.innerText = `${verb} MLflow Trace`;\n",
       "    \"\n",
       "  >Collapse MLflow Trace</button>\n",
       "  <iframe\n",
       "    id=\"trace-renderer\"\n",
       "    style=\"width: 100%; height: 500px; border: none; resize: vertical;\"\n",
       "    src=\"http://localhost:5000/static-files/lib/notebook-trace-renderer/index.html?trace_id=f1d10205d5b3491ca87b159f65489cf1&amp;experiment_id=477751900475547963&amp;version=2.21.2\"\n",
       "  />\n",
       "</div>\n"
      ],
      "text/plain": [
       "Trace(request_id=f1d10205d5b3491ca87b159f65489cf1)"
      ]
     },
     "metadata": {},
     "output_type": "display_data"
    }
   ],
   "source": [
    "# Make predictions using the loaded model.\n",
    "\n",
    "model_input = {\n",
    "    \"query\": \"Who is the current chancellor of Austria? April 2025\",\n",
    "    \"session_id\": session_id\n",
    "}\n",
    "predictions = loaded_model.predict(model_input)\n",
    "predictions\n"
   ]
  }
 ],
 "metadata": {
  "kernelspec": {
   "display_name": ".venv",
   "language": "python",
   "name": "python3"
  },
  "language_info": {
   "codemirror_mode": {
    "name": "ipython",
    "version": 3
   },
   "file_extension": ".py",
   "mimetype": "text/x-python",
   "name": "python",
   "nbconvert_exporter": "python",
   "pygments_lexer": "ipython3",
   "version": "3.11.9"
  }
 },
 "nbformat": 4,
 "nbformat_minor": 2
}
