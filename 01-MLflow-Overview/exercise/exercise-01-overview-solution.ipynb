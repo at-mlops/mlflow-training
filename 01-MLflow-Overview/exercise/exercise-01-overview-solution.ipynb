{
 "cells": [
  {
   "cell_type": "markdown",
   "metadata": {},
   "source": [
    "### Important: The MLflow webserver needs to run so the API can log to the server. Otherwise it doesn't work.\n",
    "### PLEASE RUN THE THE MLFLOW UI USING\n",
    "\n",
    "```shell \n",
    "mlflow ui\n",
    "```"
   ]
  },
  {
   "cell_type": "code",
   "execution_count": 1,
   "metadata": {},
   "outputs": [],
   "source": [
    "import mlflow \n",
    "# TODO: Set the tracking URI to your localhost ip http://127.0.0.1:PORT/ \n",
    "# (PORT is usually 5000)\n",
    "\n",
    "mlflow.set_tracking_uri(\"http://127.0.0.1:5000/\")"
   ]
  },
  {
   "cell_type": "code",
   "execution_count": 2,
   "metadata": {},
   "outputs": [
    {
     "data": {
      "text/plain": [
       "<Experiment: artifact_location='mlflow-artifacts:/509076222481961243', creation_time=1724767760070, experiment_id='509076222481961243', last_update_time=1724767760070, lifecycle_stage='active', name='exercise-01', tags={}>"
      ]
     },
     "execution_count": 2,
     "metadata": {},
     "output_type": "execute_result"
    }
   ],
   "source": [
    "# TODO: Set your name and create and set an MLflow experiment\n",
    "experiment_name = \"exercise-01\"\n",
    "\n",
    "# Set an experiment, creates if none exists\n",
    "mlflow.set_experiment(experiment_name)"
   ]
  },
  {
   "cell_type": "code",
   "execution_count": 3,
   "metadata": {},
   "outputs": [
    {
     "data": {
      "text/plain": [
       "<ActiveRun: >"
      ]
     },
     "execution_count": 3,
     "metadata": {},
     "output_type": "execute_result"
    }
   ],
   "source": [
    "# Create a mlflow run within the previously created mlflow experiment\n",
    "# The first on is called: \"logistic-regression\"\n",
    "run_name_lr=\"logistic-regression\"\n",
    "\n",
    "# TODO: start your MLflow run for run_name_lr\n",
    "mlflow.start_run(run_name=run_name_lr)\n"
   ]
  },
  {
   "cell_type": "code",
   "execution_count": 4,
   "metadata": {},
   "outputs": [
    {
     "name": "stdout",
     "output_type": "stream",
     "text": [
      "Active run_id for 'run_name_lr': d8cd8a96d481400aa60eb2e80821bd42\n",
      "Active run_name for 'run_name_lr': logistic-regression\n"
     ]
    }
   ],
   "source": [
    "# TODO  Export the active run ID to the variable \"run_lr\"\n",
    "run_lr = mlflow.active_run()\n",
    "\n",
    "print(f\"Active run_id for 'run_name_lr': {run_lr.info.run_id}\")\n",
    "print(f\"Active run_name for 'run_name_lr': {run_lr.info.run_name}\")\n"
   ]
  },
  {
   "cell_type": "code",
   "execution_count": 5,
   "metadata": {},
   "outputs": [
    {
     "name": "stderr",
     "output_type": "stream",
     "text": [
      "2024/08/27 16:24:58 INFO mlflow.tracking._tracking_service.client: 🏃 View run logistic-regression at: http://127.0.0.1:5000/#/experiments/509076222481961243/runs/d8cd8a96d481400aa60eb2e80821bd42.\n",
      "2024/08/27 16:24:58 INFO mlflow.tracking._tracking_service.client: 🧪 View experiment at: http://127.0.0.1:5000/#/experiments/509076222481961243.\n"
     ]
    }
   ],
   "source": [
    "# TODO: end your MLflow run\n",
    "mlflow.end_run()"
   ]
  },
  {
   "cell_type": "code",
   "execution_count": 7,
   "metadata": {},
   "outputs": [
    {
     "name": "stdout",
     "output_type": "stream",
     "text": [
      "Experiment_id for 'exercise-01': 509076222481961243\n"
     ]
    }
   ],
   "source": [
    "# TODO: create the experiment variable by searching for the experiment name \n",
    "# and export the experiment_id as \"mlflow_experiment_id\"\n",
    "\n",
    "experiment_name = \"exercise-01\"\n",
    "experiment = mlflow.get_experiment_by_name(experiment_name)\n",
    "mlflow_experiment_id = experiment.experiment_id\n",
    "\n",
    "print(f\"Experiment_id for 'exercise-01': {mlflow_experiment_id}\")\n"
   ]
  },
  {
   "cell_type": "code",
   "execution_count": 8,
   "metadata": {},
   "outputs": [
    {
     "name": "stderr",
     "output_type": "stream",
     "text": [
      "2024/08/27 16:26:21 INFO mlflow.tracking._tracking_service.client: 🏃 View run context-manager-run at: http://127.0.0.1:5000/#/experiments/509076222481961243/runs/35a4e8727c3542be8a5e3c83acaa1861.\n",
      "2024/08/27 16:26:21 INFO mlflow.tracking._tracking_service.client: 🧪 View experiment at: http://127.0.0.1:5000/#/experiments/509076222481961243.\n"
     ]
    },
    {
     "name": "stdout",
     "output_type": "stream",
     "text": [
      "Active run_id for 'context-manager-run': 35a4e8727c3542be8a5e3c83acaa1861\n"
     ]
    }
   ],
   "source": [
    "# TODO: run the mlflow run using the context manager. Export its run id as run_id\n",
    "run_name = \"context-manager-run\"\n",
    "\n",
    "with mlflow.start_run(run_name=run_name, experiment_id=mlflow_experiment_id) as run:\n",
    "    run_id = run.info.run_id\n",
    "print(f\"Active run_id for 'context-manager-run': {run_id}\")\n"
   ]
  }
 ],
 "metadata": {
  "kernelspec": {
   "display_name": "Python 3",
   "language": "python",
   "name": "python3"
  },
  "language_info": {
   "codemirror_mode": {
    "name": "ipython",
    "version": 3
   },
   "file_extension": ".py",
   "mimetype": "text/x-python",
   "name": "python",
   "nbconvert_exporter": "python",
   "pygments_lexer": "ipython3",
   "version": "3.11.9"
  },
  "orig_nbformat": 4
 },
 "nbformat": 4,
 "nbformat_minor": 2
}
