{
 "cells": [
  {
   "cell_type": "code",
   "execution_count": null,
   "metadata": {},
   "outputs": [],
   "source": [
    "# Important: The MLflow webserver needs to run so the API can log to the server. Otherwise it doesn't work.\n",
    "# PLEASE RUN THE THE MLFLOW UI USING 'mlflow ui'"
   ]
  },
  {
   "cell_type": "code",
   "execution_count": 1,
   "metadata": {},
   "outputs": [
    {
     "name": "stdout",
     "output_type": "stream",
     "text": [
      "Object `?` not found.\n"
     ]
    }
   ],
   "source": [
    "# TODO: Set the tracking URI to your localhost ip http://127.0.0.1:PORT/ \n",
    "# (PORT is usually 5000)\n",
    "???"
   ]
  },
  {
   "cell_type": "code",
   "execution_count": null,
   "metadata": {},
   "outputs": [],
   "source": [
    "# TODO: Set your name and create and set an MLflow experiment\n",
    "experiment_name = \"exercise-01.1-YOUR-NAME\"\n",
    "???"
   ]
  },
  {
   "cell_type": "code",
   "execution_count": 2,
   "metadata": {},
   "outputs": [],
   "source": [
    "# Create two mlflow runs with different names within the previously created mlflow experiment\n",
    "# The first on is called: \"logistic-regression\"\n",
    "# The second one is called \"support-vector-machine\"\n",
    "run_name_lr=\"logistic-regression\"\n",
    "run_name_svm=\"support-vector-machines\"\n",
    "\n",
    "# TODO: start your MLflow run for run_name_lr\n",
    "???"
   ]
  },
  {
   "cell_type": "code",
   "execution_count": 3,
   "metadata": {},
   "outputs": [
    {
     "name": "stdout",
     "output_type": "stream",
     "text": [
      "Object `?` not found.\n"
     ]
    }
   ],
   "source": []
  },
  {
   "cell_type": "code",
   "execution_count": null,
   "metadata": {},
   "outputs": [],
   "source": [
    "# TODO export the active run to the variable \"run_lr\"\n",
    "???\n",
    "\n",
    "print(f\"Active run_id: {run_lr.info.run_id}\")"
   ]
  },
  {
   "cell_type": "code",
   "execution_count": null,
   "metadata": {},
   "outputs": [],
   "source": [
    "# TODO: end your MLflow run\n",
    "???"
   ]
  },
  {
   "cell_type": "code",
   "execution_count": null,
   "metadata": {},
   "outputs": [],
   "source": [
    "# TODO: Now repeat the above steps to create the same for run_name_svm\n",
    "# export the active run to run_svm\n",
    "???"
   ]
  },
  {
   "cell_type": "code",
   "execution_count": null,
   "metadata": {},
   "outputs": [],
   "source": [
    "# TODO: Set the experiment as active and export its experiment_id as \"mlflow_experiment_id\"\n",
    "experiment_name = \"exercise-01.2-context-manager\"\n",
    "???\n",
    "\n",
    "print(f\"Experiment_id: {mlflow_experiment_id}\")\n"
   ]
  },
  {
   "cell_type": "code",
   "execution_count": null,
   "metadata": {},
   "outputs": [],
   "source": [
    "run_name = \"context-manager-run\"\n",
    "# TODO: run the mlflow run using the context manager. Export its run id as run_id\n",
    "???\n",
    "    print(f\"Active run_id: {run_id}\")"
   ]
  },
  {
   "cell_type": "code",
   "execution_count": null,
   "metadata": {},
   "outputs": [],
   "source": []
  }
 ],
 "metadata": {
  "kernelspec": {
   "display_name": "Python 3",
   "language": "python",
   "name": "python3"
  },
  "language_info": {
   "codemirror_mode": {
    "name": "ipython",
    "version": 3
   },
   "file_extension": ".py",
   "mimetype": "text/x-python",
   "name": "python",
   "nbconvert_exporter": "python",
   "pygments_lexer": "ipython3",
   "version": "3.10.10"
  },
  "orig_nbformat": 4
 },
 "nbformat": 4,
 "nbformat_minor": 2
}
