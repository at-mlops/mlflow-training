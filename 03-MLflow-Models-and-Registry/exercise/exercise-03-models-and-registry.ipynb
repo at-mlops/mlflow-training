{
 "cells": [
  {
   "cell_type": "code",
   "execution_count": null,
   "metadata": {},
   "outputs": [],
   "source": [
    "# Import the sklearn models from MLflow\n",
    "import mlflow.sklearn\n",
    "import mlflow\n",
    "from pprint import pprint\n",
    "from sklearn.ensemble import RandomForestRegressor\n",
    "run_name = \"mlflow-models-and-registry\""
   ]
  },
  {
   "cell_type": "code",
   "execution_count": null,
   "metadata": {},
   "outputs": [],
   "source": [
    "# -- MLflow Models\n",
    "\n",
    "# log model to current run\n",
    "with mlflow.start_run(run_name=run_name) as run:\n",
    "    params = {\"n_estimators\": 4, \"random_state\": 42}\n",
    "    rfr = RandomForestRegressor(**params).fit([[0, 1, 0]], [1])\n",
    "    mlflow.log_params(params)\n",
    "    # TODO: Log the model rfr and give it the path \"sklearn-model\"\n",
    "    ???\n",
    "\n",
    "    # TODO: modify the model_uri to load from the path \"sklearn-model\"\n",
    "    model_uri = f\"{???}:/{run.info.run_id}/{???}\""
   ]
  },
  {
   "cell_type": "code",
   "execution_count": null,
   "metadata": {},
   "outputs": [],
   "source": [
    "# TODO: Load the model using the model uri to test it\n",
    "???\n",
    "\n",
    "data = [[0, 1, 0]]\n",
    "model_pred = model.predict(data)\n",
    "print(f\"model_pred: {model_pred}\")"
   ]
  },
  {
   "cell_type": "code",
   "execution_count": null,
   "metadata": {},
   "outputs": [],
   "source": [
    "# -- MLflow Model Registry\n",
    "\n",
    "model_name = \"sklearn-model-name\"\n",
    "# register model in mlflow registry\n",
    "# TODO: Register the model to the model registry using the model_uri from before and the model_name\n",
    "mv = ???\n",
    "print(\"Name: {}\".format(mv.name))\n",
    "print(\"Version: {}\".format(mv.version))\n",
    "print(\"Stage: {}\".format(mv.current_stage))"
   ]
  },
  {
   "cell_type": "code",
   "execution_count": null,
   "metadata": {},
   "outputs": [],
   "source": [
    "# TODO: modify the model_uri to load the model from the registry\n",
    "model_uri = f\"{???}:/{???}/{mv.version}\"\n",
    "model = mlflow.sklearn.load_model(model_uri=model_uri)\n",
    "\n",
    "data = [[0, 1, 0]]\n",
    "model_pred = model.predict(data)\n",
    "print(f\"model_pred: {model_pred}\")"
   ]
  },
  {
   "cell_type": "code",
   "execution_count": null,
   "metadata": {},
   "outputs": [],
   "source": [
    "# Transition the model to another stage\n",
    "from mlflow import MLflowClient\n",
    "client = MlflowClient()\n",
    "\n",
    "# TODO: Transition the model to the stage \"Production\"\n",
    "stage = ???  # None, Staging, Production\n",
    "\n",
    "client.transition_model_version_stage(\n",
    "    name=model_name,\n",
    "    version=mv.version,\n",
    "    ???\n",
    ")"
   ]
  },
  {
   "cell_type": "code",
   "execution_count": null,
   "metadata": {},
   "outputs": [],
   "source": [
    "# print registered models\n",
    "for rm in client.search_registered_models():\n",
    "    pprint(dict(rm), indent=4)"
   ]
  }
 ],
 "metadata": {
  "language_info": {
   "name": "python"
  },
  "orig_nbformat": 4
 },
 "nbformat": 4,
 "nbformat_minor": 2
}
