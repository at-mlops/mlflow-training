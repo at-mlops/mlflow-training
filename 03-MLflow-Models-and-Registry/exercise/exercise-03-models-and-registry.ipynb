{
 "cells": [
  {
   "cell_type": "code",
   "execution_count": 1,
   "metadata": {},
   "outputs": [],
   "source": [
    "# Import the sklearn models from MLflow\n",
    "import mlflow.sklearn\n",
    "import mlflow\n",
    "from pprint import pprint\n",
    "from sklearn.ensemble import RandomForestRegressor\n",
    "\n",
    "# TODO: Set the tracking URI to your http://127.0.0.1:PORT/\n",
    "# (PORT is usually 5000)\n",
    "# TODO: Set experiment to \"exercise-03\"\n",
    "\n"
   ]
  },
  {
   "cell_type": "markdown",
   "metadata": {},
   "source": [
    "# MLFlow Models\n",
    "\n",
    "In this Excersice we will learn how to log and version models in MLFlow you can access all models via the UI: http://127.0.0.1:5000/#/models"
   ]
  },
  {
   "cell_type": "code",
   "execution_count": 2,
   "metadata": {},
   "outputs": [
    {
     "name": "stderr",
     "output_type": "stream",
     "text": [
      "2024/08/28 09:00:16 WARNING mlflow.models.model: Input example should be provided to infer model signature if the model signature is not provided when logging the model.\n",
      "2024/08/28 09:00:16 INFO mlflow.tracking._tracking_service.client: 🏃 View run mlflow-models-and-registry at: http://127.0.0.1:5000/#/experiments/821346584035337882/runs/c1fa4a2b4ea44d1c9641e536d5803915.\n",
      "2024/08/28 09:00:16 INFO mlflow.tracking._tracking_service.client: 🧪 View experiment at: http://127.0.0.1:5000/#/experiments/821346584035337882.\n"
     ]
    }
   ],
   "source": [
    "run_name = \"mlflow-models-and-registry\"\n",
    "# log model to current run\n",
    "with mlflow.start_run(run_name=run_name) as run:\n",
    "    params = {\"n_estimators\": 4, \"random_state\": 42}\n",
    "    rfr = RandomForestRegressor(**params).fit([[0, 1, 0]], [1])\n",
    "    mlflow.log_params(params)\n",
    "    # TODO: Log the model rfr and give it the path \"sklearn-model\"\n",
    "    # TODO: modify the model_uri to load from the path \"sklearn-model\""
   ]
  },
  {
   "cell_type": "code",
   "execution_count": 3,
   "metadata": {},
   "outputs": [
    {
     "name": "stdout",
     "output_type": "stream",
     "text": [
      "model_pred: [1.]\n"
     ]
    }
   ],
   "source": [
    "# TODO: Load the model using the model uri to test it\n",
    "\n",
    "data = [[0, 1, 0]]\n",
    "model_pred = model.predict(data)\n",
    "print(f\"model_pred: {model_pred}\")"
   ]
  },
  {
   "cell_type": "code",
   "execution_count": 7,
   "metadata": {},
   "outputs": [
    {
     "name": "stderr",
     "output_type": "stream",
     "text": [
      "Registered model 'RandomForestRegressor' already exists. Creating a new version of this model...\n",
      "2024/08/28 09:23:10 INFO mlflow.store.model_registry.abstract_store: Waiting up to 300 seconds for model version to finish creation. Model name: RandomForestRegressor, version 2\n"
     ]
    },
    {
     "name": "stdout",
     "output_type": "stream",
     "text": [
      "Name: RandomForestRegressor\n",
      "Version: 2\n"
     ]
    },
    {
     "name": "stderr",
     "output_type": "stream",
     "text": [
      "Created version '2' of model 'RandomForestRegressor'.\n"
     ]
    }
   ],
   "source": [
    "# -- MLflow Model Registry\n",
    "\n",
    "model_name = \"RandomForestRegressor\"\n",
    "# register model in mlflow registry\n",
    "# TODO: Register the model to the model registry using the model_uri from before and the model_name\n",
    "mv = #TODO\n",
    "\n",
    "print(\"Name: {}\".format(mv.name))\n",
    "print(\"Version: {}\".format(mv.version))"
   ]
  },
  {
   "cell_type": "code",
   "execution_count": 8,
   "metadata": {},
   "outputs": [
    {
     "name": "stdout",
     "output_type": "stream",
     "text": [
      "model_pred: [1.]\n"
     ]
    }
   ],
   "source": [
    "# TODO: modify the model_uri to load the model from the registry\n",
    "model_uri = f\"models:/{???}/{???}\"\n",
    "model = mlflow.sklearn.load_model(model_uri)\n",
    "\n",
    "data = [[0, 1, 0]]\n",
    "model_pred = model.predict(data)\n",
    "print(f\"model_pred: {model_pred}\")"
   ]
  },
  {
   "cell_type": "code",
   "execution_count": 10,
   "metadata": {},
   "outputs": [],
   "source": [
    "# Add alias and tag to registered model\n",
    "from mlflow.client import MlflowClient\n",
    "client = MlflowClient()\n",
    "\n",
    "# TODO: Set alias of your choice for our registered model\n",
    "\n",
    "\n",
    "# TODO: Set model version tag of our model with key \"run\" and value \"1\"\n"
   ]
  },
  {
   "cell_type": "markdown",
   "metadata": {},
   "source": []
  },
  {
   "cell_type": "code",
   "execution_count": 11,
   "metadata": {},
   "outputs": [
    {
     "name": "stdout",
     "output_type": "stream",
     "text": [
      "{   'aliases': {},\n",
      "    'creation_timestamp': 1724745739163,\n",
      "    'description': '',\n",
      "    'last_updated_timestamp': 1724745797692,\n",
      "    'latest_versions': [   <ModelVersion: aliases=[], creation_timestamp=1724745797692, current_stage='None', description='', last_updated_timestamp=1724745797692, name='Live Demo Iris Classifier', run_id='ec72758530bf4231a44272b5dd922701', run_link='', source='mlflow-artifacts:/200983475347949789/ec72758530bf4231a44272b5dd922701/artifacts/sklearn-model', status='READY', status_message='', tags={}, user_id='', version='2'>],\n",
      "    'name': 'Live Demo Iris Classifier',\n",
      "    'tags': {}}\n",
      "{   'aliases': {'superModel': '2'},\n",
      "    'creation_timestamp': 1724829708521,\n",
      "    'description': '',\n",
      "    'last_updated_timestamp': 1724829932497,\n",
      "    'latest_versions': [   <ModelVersion: aliases=['superModel'], creation_timestamp=1724829790226, current_stage='None', description='', last_updated_timestamp=1724829790226, name='RandomForestRegressor', run_id='c1fa4a2b4ea44d1c9641e536d5803915', run_link='', source='mlflow-artifacts:/821346584035337882/c1fa4a2b4ea44d1c9641e536d5803915/artifacts/sklearn-model', status='READY', status_message='', tags={}, user_id='', version='2'>],\n",
      "    'name': 'RandomForestRegressor',\n",
      "    'tags': {'run': '1'}}\n"
     ]
    }
   ],
   "source": [
    "# print registered models\n",
    "for rm in client.search_registered_models():\n",
    "    pprint(dict(rm), indent=4)"
   ]
  }
 ],
 "metadata": {
  "kernelspec": {
   "display_name": ".venv",
   "language": "python",
   "name": "python3"
  },
  "language_info": {
   "codemirror_mode": {
    "name": "ipython",
    "version": 3
   },
   "file_extension": ".py",
   "mimetype": "text/x-python",
   "name": "python",
   "nbconvert_exporter": "python",
   "pygments_lexer": "ipython3",
   "version": "3.11.9"
  },
  "orig_nbformat": 4
 },
 "nbformat": 4,
 "nbformat_minor": 2
}
