{
 "cells": [
  {
   "cell_type": "code",
   "execution_count": 20,
   "metadata": {},
   "outputs": [],
   "source": [
    "# Import the sklearn models from MLflow\n",
    "import mlflow.sklearn\n",
    "import mlflow\n",
    "from pprint import pprint\n",
    "from sklearn.ensemble import RandomForestRegressor"
   ]
  },
  {
   "cell_type": "code",
   "execution_count": 19,
   "metadata": {},
   "outputs": [
    {
     "name": "stdout",
     "output_type": "stream",
     "text": [
      "model_pred: [1.]\n"
     ]
    },
    {
     "name": "stderr",
     "output_type": "stream",
     "text": [
      "/Users/sebastian.blum/.pyenv/versions/3.10.10/lib/python3.10/site-packages/_distutils_hack/__init__.py:18: UserWarning: Distutils was imported before Setuptools, but importing Setuptools also replaces the `distutils` module in `sys.modules`. This may lead to undesirable behaviors or errors. To avoid these issues, avoid using distutils directly, ensure that setuptools is installed in the traditional way (e.g. not an editable install), and/or make sure that setuptools is always imported before distutils.\n",
      "  warnings.warn(\n",
      "/Users/sebastian.blum/.pyenv/versions/3.10.10/lib/python3.10/site-packages/_distutils_hack/__init__.py:33: UserWarning: Setuptools is replacing distutils.\n",
      "  warnings.warn(\"Setuptools is replacing distutils.\")\n"
     ]
    }
   ],
   "source": [
    "run_name = \"mlflow-models-and-registry\"\n",
    "\n",
    "# -- MLflow Models\n",
    "\n",
    "# log model to current run\n",
    "with mlflow.start_run(run_name=run_name) as run:\n",
    "    params = {\"n_estimators\": 4, \"random_state\": 42}\n",
    "    rfr = RandomForestRegressor(**params).fit([[0, 1, 0]], [1])\n",
    "    mlflow.log_params(params)\n",
    "    # TODO: Log the model rfr and give it the path \"sklearn-model\"\n",
    "    mlflow.sklearn.log_model(rfr, artifact_path=\"sklearn-model\")\n",
    "\n",
    "    # TODO: modify the model_uri to load from the path \"sklearn-model\"\n",
    "    model_uri = f\"runs:/{run.info.run_id}/sklearn-model\"\n",
    "\n",
    "# TODO: Load the model using the model uri to test it\n",
    "model = mlflow.sklearn.load_model(model_uri=model_uri)\n",
    "\n",
    "data = [[0, 1, 0]]\n",
    "model_pred = model.predict(data)\n",
    "print(f\"model_pred: {model_pred}\")\n"
   ]
  },
  {
   "cell_type": "code",
   "execution_count": 21,
   "metadata": {},
   "outputs": [
    {
     "name": "stderr",
     "output_type": "stream",
     "text": [
      "Registered model 'sklearn-model-name' already exists. Creating a new version of this model...\n",
      "2023/07/18 12:07:21 INFO mlflow.tracking._model_registry.client: Waiting up to 300 seconds for model version to finish creation. Model name: sklearn-model-name, version 6\n"
     ]
    },
    {
     "name": "stdout",
     "output_type": "stream",
     "text": [
      "Name: sklearn-model-name\n",
      "Version: 6\n",
      "Stage: None\n",
      "model_pred: [1.]\n",
      "{   'aliases': {},\n",
      "    'creation_timestamp': 1689674536078,\n",
      "    'description': None,\n",
      "    'last_updated_timestamp': 1689674841762,\n",
      "    'latest_versions': [   <ModelVersion: aliases=[], creation_timestamp=1689674841728, current_stage='Staging', description=None, last_updated_timestamp=1689674841762, name='sklearn-model-name', run_id='e7e80289c8d643bdad79a24d50fd4550', run_link=None, source='file:///Users/sebastian.blum/Documents/Practice/mlflow-training/03-MLflow-Models-and-Registry/exercise/mlruns/0/e7e80289c8d643bdad79a24d50fd4550/artifacts/sklearn-model', status='READY', status_message=None, tags={}, user_id=None, version=6>,\n",
      "                           <ModelVersion: aliases=[], creation_timestamp=1689674585640, current_stage='None', description=None, last_updated_timestamp=1689674585640, name='sklearn-model-name', run_id=None, run_link=None, source='models:/sklearn-model-name/1', status='READY', status_message=None, tags={}, user_id=None, version=2>],\n",
      "    'name': 'sklearn-model-name',\n",
      "    'tags': {}}\n"
     ]
    },
    {
     "name": "stderr",
     "output_type": "stream",
     "text": [
      "Created version '6' of model 'sklearn-model-name'.\n"
     ]
    }
   ],
   "source": [
    "\n",
    "\n",
    "# -- MLflow Model Registry\n",
    "\n",
    "model_name = \"sklearn-model-name\"\n",
    "# register model in mlflow registry\n",
    "# TODO: Register the model to the model registry using the model_uri from before and the model_name\n",
    "mv = mlflow.register_model(model_uri, model_name)\n",
    "print(\"Name: {}\".format(mv.name))\n",
    "print(\"Version: {}\".format(mv.version))\n",
    "print(\"Stage: {}\".format(mv.current_stage))\n",
    "\n",
    "\n",
    "# TODO: modify the model_uri to load the model from the registry\n",
    "model_uri = f\"models:/{model_name}/{mv.version}\"\n",
    "model = mlflow.sklearn.load_model(model_uri=model_uri)\n",
    "\n",
    "data = [[0, 1, 0]]\n",
    "model_pred = model.predict(data)\n",
    "print(f\"model_pred: {model_pred}\")\n",
    "\n",
    "\n",
    "# Transition the model to another stage\n",
    "from mlflow import MlflowClient\n",
    "\n",
    "client = MlflowClient()\n",
    "\n",
    "# TODO: Transition the model to the stage \"Production\"\n",
    "stage = \"Staging\"  # None, Production\n",
    "\n",
    "client.transition_model_version_stage(name=model_name, version=mv.version, stage=stage)\n",
    "\n",
    "# print registered models\n",
    "for rm in client.search_registered_models():\n",
    "    pprint(dict(rm), indent=4)\n"
   ]
  },
  {
   "cell_type": "code",
   "execution_count": null,
   "metadata": {},
   "outputs": [],
   "source": []
  }
 ],
 "metadata": {
  "kernelspec": {
   "display_name": "Python 3",
   "language": "python",
   "name": "python3"
  },
  "language_info": {
   "codemirror_mode": {
    "name": "ipython",
    "version": 3
   },
   "file_extension": ".py",
   "mimetype": "text/x-python",
   "name": "python",
   "nbconvert_exporter": "python",
   "pygments_lexer": "ipython3",
   "version": "3.10.10"
  },
  "orig_nbformat": 4
 },
 "nbformat": 4,
 "nbformat_minor": 2
}
