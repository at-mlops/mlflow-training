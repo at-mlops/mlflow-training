{
 "cells": [
  {
   "cell_type": "markdown",
   "metadata": {},
   "source": [
    "You can serve your model with this command: \n",
    "\n",
    "```shell \n",
    "mlflow models serve --model-uri 'runs:/<run_id>/sklearn-model' -p 8001 --no-conda \n",
    "```\n",
    "Documentation on how to use the mlflow serve command is here:  \n",
    "https://mlflow.org/docs/2.10.2/cli.html#mlflow-models-serve"
   ]
  },
  {
   "cell_type": "code",
   "execution_count": 27,
   "metadata": {},
   "outputs": [
    {
     "data": {
      "text/plain": [
       "'{\"dataframe_records\": [{\"mean radius\": 13.45, \"mean texture\": 18.3, \"mean perimeter\": 86.6, \"mean area\": 555.1, \"mean smoothness\": 0.1022, \"mean compactness\": 0.08165, \"mean concavity\": 0.03974, \"mean concave points\": 0.0278, \"mean symmetry\": 0.1638, \"mean fractal dimension\": 0.0571, \"radius error\": 0.295, \"texture error\": 1.373, \"perimeter error\": 2.099, \"area error\": 25.22, \"smoothness error\": 0.005884, \"compactness error\": 0.01491, \"concavity error\": 0.01872, \"concave points error\": 0.009366, \"symmetry error\": 0.01884, \"fractal dimension error\": 0.001817, \"worst radius\": 15.1, \"worst texture\": 25.94, \"worst perimeter\": 97.59, \"worst area\": 699.4, \"worst smoothness\": 0.1339, \"worst compactness\": 0.1751, \"worst concavity\": 0.1381, \"worst concave points\": 0.07911, \"worst symmetry\": 0.2678, \"worst fractal dimension\": 0.06603}]}'"
      ]
     },
     "execution_count": 27,
     "metadata": {},
     "output_type": "execute_result"
    }
   ],
   "source": [
    "import requests \n",
    "import json \n",
    "import random \n",
    "from sklearn import datasets\n",
    "import pandas as pd \n",
    "\n",
    "cancer = datasets.load_breast_cancer()\n",
    "\n",
    "data = pd.DataFrame(cancer.data, columns = cancer.feature_names)\n",
    "\n",
    "request = random.choice(data.to_dict(orient=\"records\"))\n",
    "request = json.dumps({\"dataframe_records\": [request]})\n",
    "request"
   ]
  },
  {
   "cell_type": "code",
   "execution_count": 28,
   "metadata": {},
   "outputs": [
    {
     "data": {
      "text/plain": [
       "{'predictions': [1]}"
      ]
     },
     "execution_count": 28,
     "metadata": {},
     "output_type": "execute_result"
    }
   ],
   "source": [
    "response = requests.post(\n",
    "    url=\"http://127.0.0.1:8001/invocations\",\n",
    "    data=request,\n",
    "    headers={\"Content-Type\": \"application/json\"}\n",
    ")\n",
    "response_json = response.json()\n",
    "response_json"
   ]
  },
  {
   "cell_type": "code",
   "execution_count": 30,
   "metadata": {},
   "outputs": [
    {
     "data": {
      "text/plain": [
       "\"This Cancer is 'benign'\""
      ]
     },
     "execution_count": 30,
     "metadata": {},
     "output_type": "execute_result"
    }
   ],
   "source": [
    "f\"This Cancer is '{cancer.target_names[response_json.get('predictions')[0]]}'\""
   ]
  }
 ],
 "metadata": {
  "kernelspec": {
   "display_name": ".venv",
   "language": "python",
   "name": "python3"
  },
  "language_info": {
   "codemirror_mode": {
    "name": "ipython",
    "version": 3
   },
   "file_extension": ".py",
   "mimetype": "text/x-python",
   "name": "python",
   "nbconvert_exporter": "python",
   "pygments_lexer": "ipython3",
   "version": "3.11.9"
  }
 },
 "nbformat": 4,
 "nbformat_minor": 2
}
