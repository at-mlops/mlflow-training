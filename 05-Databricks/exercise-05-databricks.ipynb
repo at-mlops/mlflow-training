{
 "cells": [
  {
   "cell_type": "markdown",
   "metadata": {
    "application/vnd.databricks.v1+cell": {
     "cellMetadata": {},
     "inputWidgets": {},
     "nuid": "61389745-9bd2-4a74-ad3e-6254966302b8",
     "showTitle": false,
     "title": ""
    }
   },
   "source": [
    "# MLFlow Databricks Integration"
   ]
  },
  {
   "cell_type": "code",
   "execution_count": 1,
   "metadata": {
    "application/vnd.databricks.v1+cell": {
     "cellMetadata": {
      "byteLimit": 2048000,
      "rowLimit": 10000
     },
     "inputWidgets": {},
     "nuid": "bd70e1a2-0e75-46c0-aaa3-0322ea89af02",
     "showTitle": false,
     "title": ""
    }
   },
   "outputs": [],
   "source": [
    "import mlflow\n",
    "from mlflow.models import infer_signature\n",
    "import pandas as pd\n",
    "import json\n",
    "from tempfile import TemporaryDirectory\n",
    "from pathlib import Path\n",
    "\n",
    "from sklearn import datasets\n",
    "from sklearn.model_selection import train_test_split\n",
    "from sklearn import metrics\n",
    "from sklearn.pipeline import Pipeline"
   ]
  },
  {
   "cell_type": "markdown",
   "metadata": {
    "application/vnd.databricks.v1+cell": {
     "cellMetadata": {},
     "inputWidgets": {},
     "nuid": "048fef6f-f24f-45f6-8015-4e6eecc327df",
     "showTitle": false,
     "title": ""
    }
   },
   "source": [
    "In the Databricks Workspace it is not necessary to set your tracking uri - it is set for you as an environment variable. Furthermore, the experiment name has to be in form of a path to your workspace: `/Users/<USER_NAME>/<ESPERIMENT_NAME>`\n",
    "\n",
    "[MLFlow Tracking Documenation](https://docs.databricks.com/en/mlflow/tracking.html)"
   ]
  },
  {
   "cell_type": "markdown",
   "metadata": {},
   "source": [
    "MLFlow is built into Databricks natively and you have access to all Features on your sidebar: \n",
    "\n",
    "![Databricks Integration](image/MachineLearningSidebar.png)\n"
   ]
  },
  {
   "cell_type": "markdown",
   "metadata": {},
   "source": [
    "You can have an overview of your Experiments: \n",
    "\n",
    "![Experiment Tab](image/Experiments.png)"
   ]
  },
  {
   "cell_type": "markdown",
   "metadata": {},
   "source": [
    "And all your models are versioned in the Models tab. You can also set stages for your model versions (Staging, Production, Archived) and add tags to a specific version of the model. \n",
    "![Databricks Integration](image/models.png)"
   ]
  },
  {
   "cell_type": "markdown",
   "metadata": {},
   "source": [
    "What is more, you can also directly deploy your models on a serving instance in the `Serving` tab"
   ]
  },
  {
   "cell_type": "markdown",
   "metadata": {},
   "source": [
    "Here is a code example for training the breastcancer model on databricks: "
   ]
  },
  {
   "cell_type": "code",
   "execution_count": null,
   "metadata": {
    "application/vnd.databricks.v1+cell": {
     "cellMetadata": {
      "byteLimit": 2048000,
      "rowLimit": 10000
     },
     "inputWidgets": {},
     "nuid": "519736b5-beae-4283-9807-ac043eb838ac",
     "showTitle": false,
     "title": ""
    }
   },
   "outputs": [],
   "source": [
    "\n",
    "def train(model: Pipeline, model_name: str, params: dict):\n",
    "    # Load dataset\n",
    "    print(\"Loading data...\")\n",
    "    cancer = datasets.load_breast_cancer()\n",
    "\n",
    "    experiment = mlflow.set_experiment(\"/Users/florian.krempl@alexanderthamm.com/final-project-demo\")\n",
    "    with mlflow.start_run(experiment_id=experiment.experiment_id) as run:\n",
    "        ## Model training\n",
    "\n",
    "        # log config\n",
    "        with TemporaryDirectory() as temp_dir:\n",
    "            file_path = Path(temp_dir) / \"dataset.json\"\n",
    "            dataset_config = {\n",
    "                \"features\": list(cancer.feature_names),\n",
    "                \"target\": list(cancer.target_names),\n",
    "            }\n",
    "            with file_path.open(\"w\") as outfile:\n",
    "                json.dump(dataset_config, outfile)\n",
    "\n",
    "            mlflow.log_artifact(file_path)\n",
    "\n",
    "        mlflow.log_params(params)\n",
    "\n",
    "        # Split dataset into training set and test set; 70% training and 30% test\n",
    "        X_train, X_test, y_train, y_test = train_test_split(\n",
    "            cancer.data, cancer.target, test_size=0.3, random_state=109\n",
    "        )\n",
    "\n",
    "        # Create a svm Classifier\n",
    "        pipe = model(**params)\n",
    "\n",
    "        # Train the model using the training sets\n",
    "        print(\"Model training...\")\n",
    "        pipe.fit(X_train, y_train)\n",
    "\n",
    "        # Predict the response for test dataset\n",
    "        print(\"Model evaluation...\")    \n",
    "        y_pred = pipe.predict(X_test)\n",
    "        X_test_df = pd.DataFrame(X_test, columns=cancer.feature_names)\n",
    "        signature = infer_signature(X_test_df, y_pred)\n",
    "\n",
    "        accuracy = metrics.accuracy_score(y_test, y_pred)\n",
    "        precision = metrics.precision_score(y_test, y_pred)\n",
    "        recall = metrics.recall_score(y_test, y_pred)\n",
    "\n",
    "        mlflow.log_metric(\"accuracy\", accuracy)\n",
    "        mlflow.log_metric(\"precision\", precision)\n",
    "        mlflow.log_metric(\"recall\", recall)\n",
    "        mlflow.sklearn.log_model(\n",
    "            pipe,\n",
    "            artifact_path=\"sklearn-model\",\n",
    "            registered_model_name=model_name,\n",
    "            signature=signature,\n",
    "        )\n",
    "\n",
    "        return pipe\n",
    "\n"
   ]
  },
  {
   "cell_type": "code",
   "execution_count": null,
   "metadata": {
    "application/vnd.databricks.v1+cell": {
     "cellMetadata": {
      "byteLimit": 2048000,
      "rowLimit": 10000
     },
     "inputWidgets": {},
     "nuid": "f50f0147-c1d3-45ba-ad76-d14a039dabfd",
     "showTitle": false,
     "title": ""
    }
   },
   "outputs": [
    {
     "name": "stdout",
     "output_type": "stream",
     "text": [
      "Loading data...\n"
     ]
    },
    {
     "name": "stderr",
     "output_type": "stream",
     "text": [
      "2024/08/29 12:40:14 INFO mlflow.tracking.fluent: Experiment with name '/Users/florian.krempl@alexanderthamm.com/final-project-demo' does not exist. Creating a new experiment.\n"
     ]
    },
    {
     "name": "stdout",
     "output_type": "stream",
     "text": [
      "Model training...\n",
      "Model evaluation...\n"
     ]
    },
    {
     "name": "stderr",
     "output_type": "stream",
     "text": [
      "/databricks/python/lib/python3.11/site-packages/_distutils_hack/__init__.py:33: UserWarning: Setuptools is replacing distutils.\n",
      "  warnings.warn(\"Setuptools is replacing distutils.\")\n"
     ]
    },
    {
     "data": {
      "application/vnd.jupyter.widget-view+json": {
       "model_id": "935032046afc497c8a905ae01d276dc1",
       "version_major": 2,
       "version_minor": 0
      },
      "text/plain": [
       "Uploading artifacts:   0%|          | 0/9 [00:00<?, ?it/s]"
      ]
     },
     "metadata": {},
     "output_type": "display_data"
    },
    {
     "name": "stderr",
     "output_type": "stream",
     "text": [
      "Successfully registered model 'RandomForestBreastCancerModel'.\n",
      "2024/08/29 12:40:33 INFO mlflow.store.model_registry.abstract_store: Waiting up to 300 seconds for model version to finish creation. Model name: RandomForestBreastCancerModel, version 1\n",
      "Created version '1' of model 'RandomForestBreastCancerModel'.\n"
     ]
    },
    {
     "name": "stdout",
     "output_type": "stream",
     "text": [
      "RandomForestClassifier(max_depth=5, n_estimators=10)\n"
     ]
    }
   ],
   "source": [
    "\n",
    "from sklearn.ensemble import RandomForestClassifier\n",
    "\n",
    "model = RandomForestClassifier\n",
    "params = {\"n_estimators\": 10, \"max_depth\": 5}\n",
    "\n",
    "pipe = train(model=model, model_name=\"RandomForestBreastCancerModel\", params=params)\n",
    "print(pipe)\n"
   ]
  }
 ],
 "metadata": {
  "application/vnd.databricks.v1+notebook": {
   "dashboards": [],
   "environmentMetadata": {
    "base_environment": "",
    "client": "1"
   },
   "language": "python",
   "notebookMetadata": {
    "pythonIndentUnit": 4
   },
   "notebookName": "exercise-05-databricks",
   "widgets": {}
  },
  "kernelspec": {
   "display_name": ".venv",
   "language": "python",
   "name": "python3"
  },
  "language_info": {
   "codemirror_mode": {
    "name": "ipython",
    "version": 3
   },
   "file_extension": ".py",
   "mimetype": "text/x-python",
   "name": "python",
   "nbconvert_exporter": "python",
   "pygments_lexer": "ipython3",
   "version": "3.11.9"
  }
 },
 "nbformat": 4,
 "nbformat_minor": 0
}
