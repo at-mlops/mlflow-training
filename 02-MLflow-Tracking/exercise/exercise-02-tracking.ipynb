{
 "cells": [
  {
   "cell_type": "code",
   "execution_count": null,
   "metadata": {},
   "outputs": [],
   "source": [
    "import os\n",
    "# TODO: import mlflow\n",
    "???"
   ]
  },
  {
   "cell_type": "code",
   "execution_count": null,
   "metadata": {},
   "outputs": [],
   "source": [
    "# TODO: Set the tracking URI to your localhost ip http://127.0.0.1:PORT/ \n",
    "# (PORT is usually 5000)\n",
    "???"
   ]
  },
  {
   "cell_type": "code",
   "execution_count": null,
   "metadata": {},
   "outputs": [],
   "source": [
    "# TODO: Start a new mlflow run \"mlflow-tracking\" and export its run_id\n",
    "# IMPORTANT: Keep the naming of \"exercise_2_id\", and \"tracking_run_id\" as they are needed later\n",
    "exercise_2_id = mlflow.set_experiment(\"exercise-02\").experiment_id\n",
    "tracking_run_id = ???"
   ]
  },
  {
   "cell_type": "code",
   "execution_count": null,
   "metadata": {},
   "outputs": [],
   "source": [
    "# -- Params\n",
    "# TODO log a learning_rate of 0.01\n",
    "???"
   ]
  },
  {
   "cell_type": "code",
   "execution_count": null,
   "metadata": {},
   "outputs": [],
   "source": [
    "params = {\"epochs\": 0.05, \"final_activation\": \"sigmoid\"}\n",
    "# TODO: log the above mentioned parameters to mlflow\n",
    "???"
   ]
  },
  {
   "cell_type": "code",
   "execution_count": null,
   "metadata": {},
   "outputs": [],
   "source": [
    "# -- Tags\n",
    "# TODO: set an \"environment\" tag to \"dev\" and a \"username\" tag to \"your name\"\n",
    "???"
   ]
  },
  {
   "cell_type": "code",
   "execution_count": null,
   "metadata": {},
   "outputs": [],
   "source": [
    "# -- Metrics\n",
    "# TODO: Log a F-score of 0.7\n",
    "???"
   ]
  },
  {
   "cell_type": "code",
   "execution_count": null,
   "metadata": {},
   "outputs": [],
   "source": [
    "mlflow.end_run() # end the previous run to be able to start a new one\n",
    "\n",
    "# TODO: log the following accuracies as metrics to your logistic-regression run from the previous experiment\n",
    "# \"exercise-01.1-YOUR-NAME\" with its run_id and experiment_id. HINT: Look also in the web UI\n",
    "lr_run_id = \"INSERT-RUN-ID\"\n",
    "experiment_id = \"INSERT-EXPERIMENT-ID\"\n",
    "accuracy_list = [0.6, 0.6, 0.8, 0.9]\n",
    "???"
   ]
  },
  {
   "cell_type": "code",
   "execution_count": null,
   "metadata": {},
   "outputs": [],
   "source": [
    "# -- Artifacts\n",
    "mlflow.set_experiment(experiment_id=exercise_2_id)\n",
    "mlflow.start_run(run_id=tracking_run_id)\n",
    "\n",
    "\n",
    "# Create an example file output/test.txt\n",
    "file_path = \"outputs/test.txt\"\n",
    "if not os.path.exists(\"outputs\"):\n",
    "    os.makedirs(\"outputs\")\n",
    "with open(file_path, \"w\") as f:\n",
    "    f.write(\"hello world!\")\n",
    "\n",
    "# TODO: store the previous created file in the data/subfolder subdirectory\n",
    "???\n",
    "\n",
    "# TODO: get and print the URI where the artifacts have been logged to\n",
    "???\n",
    "\n",
    "# End previous runs\n",
    "mlflow.end_run()"
   ]
  },
  {
   "cell_type": "code",
   "execution_count": null,
   "metadata": {},
   "outputs": [],
   "source": [
    "# -- Autolog\n",
    "import mlflow.sklearn\n",
    "import numpy as np\n",
    "from sklearn.ensemble import RandomForestRegressor\n",
    "\n",
    "params = {\"n_estimators\": 4, \"random_state\": 42}\n",
    "\n",
    "# TODO: start autologging the upcoming run\n",
    "???\n",
    "\n",
    "run_name = 'autologging model example'\n",
    "with mlflow.start_run(run_name=run_name) as run:\n",
    "    rfr = RandomForestRegressor(**params).fit(np.array([[0, 1, 0], [0, 1, 0], [0, 1, 0]]), np.array([1, 1, 1]))\n",
    "    print(f\"run_id: {run.info.run_id}\")\n",
    "\n",
    "# TODO: stop autologging\n",
    "???"
   ]
  },
  {
   "cell_type": "code",
   "execution_count": 36,
   "metadata": {},
   "outputs": [
    {
     "name": "stdout",
     "output_type": "stream",
     "text": [
      "<RunData: metrics={'training_mean_absolute_error': 0.0,\n",
      " 'training_mean_squared_error': 0.0,\n",
      " 'training_r2_score': 1.0,\n",
      " 'training_root_mean_squared_error': 0.0,\n",
      " 'training_score': 1.0}, params={'bootstrap': 'True',\n",
      " 'ccp_alpha': '0.0',\n",
      " 'criterion': 'squared_error',\n",
      " 'max_depth': 'None',\n",
      " 'max_features': '1.0',\n",
      " 'max_leaf_nodes': 'None',\n",
      " 'max_samples': 'None',\n",
      " 'min_impurity_decrease': '0.0',\n",
      " 'min_samples_leaf': '1',\n",
      " 'min_samples_split': '2',\n",
      " 'min_weight_fraction_leaf': '0.0',\n",
      " 'n_estimators': '4',\n",
      " 'n_jobs': 'None',\n",
      " 'oob_score': 'False',\n",
      " 'random_state': '42',\n",
      " 'verbose': '0',\n",
      " 'warm_start': 'False'}, tags={'estimator_class': 'sklearn.ensemble._forest.RandomForestRegressor',\n",
      " 'estimator_name': 'RandomForestRegressor',\n",
      " 'mlflow.log-model.history': '[{\"run_id\": \"6be3bc28e17847ae8971172e75979e11\", '\n",
      "                             '\"artifact_path\": \"model\", \"utc_time_created\": '\n",
      "                             '\"2024-03-11 07:45:50.996516\", \"flavors\": '\n",
      "                             '{\"python_function\": {\"model_path\": \"model.pkl\", '\n",
      "                             '\"predict_fn\": \"predict\", \"loader_module\": '\n",
      "                             '\"mlflow.sklearn\", \"python_version\": \"3.11.7\", '\n",
      "                             '\"env\": {\"conda\": \"conda.yaml\", \"virtualenv\": '\n",
      "                             '\"python_env.yaml\"}}, \"sklearn\": '\n",
      "                             '{\"pickled_model\": \"model.pkl\", '\n",
      "                             '\"sklearn_version\": \"1.3.0\", '\n",
      "                             '\"serialization_format\": \"cloudpickle\", \"code\": '\n",
      "                             'null}}, \"model_uuid\": '\n",
      "                             '\"c792c288ffb542b98057e3100f70387d\", '\n",
      "                             '\"mlflow_version\": \"2.10.1\", \"signature\": '\n",
      "                             '{\"inputs\": \"[{\\\\\"type\\\\\": \\\\\"tensor\\\\\", '\n",
      "                             '\\\\\"tensor-spec\\\\\": {\\\\\"dtype\\\\\": \\\\\"int64\\\\\", '\n",
      "                             '\\\\\"shape\\\\\": [-1, 3]}}]\", \"outputs\": '\n",
      "                             '\"[{\\\\\"type\\\\\": \\\\\"tensor\\\\\", \\\\\"tensor-spec\\\\\": '\n",
      "                             '{\\\\\"dtype\\\\\": \\\\\"float64\\\\\", \\\\\"shape\\\\\": '\n",
      "                             '[-1]}}]\", \"params\": null}, \"model_size_bytes\": '\n",
      "                             '2457}]',\n",
      " 'mlflow.runName': 'autologging model example',\n",
      " 'mlflow.source.name': '/Users/jaheed.naghipoor/Projects/mlflow-training/env/lib/python3.11/site-packages/ipykernel_launcher.py',\n",
      " 'mlflow.source.type': 'LOCAL',\n",
      " 'mlflow.user': 'jaheed.naghipoor'}>\n"
     ]
    }
   ],
   "source": [
    "print(mlflow.MlflowClient().get_run(run.info.run_id).data) # get logged data without looking at MLflow UI"
   ]
  },
  {
   "cell_type": "code",
   "execution_count": null,
   "metadata": {},
   "outputs": [],
   "source": []
  }
 ],
 "metadata": {
  "language_info": {
   "name": "python"
  },
  "orig_nbformat": 4
 },
 "nbformat": 4,
 "nbformat_minor": 2
}
